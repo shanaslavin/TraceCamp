{
 "cells": [
  {
   "cell_type": "code",
   "execution_count": 42,
   "metadata": {},
   "outputs": [
    {
     "name": "stdout",
     "output_type": "stream",
     "text": [
      "1997-04-19\n"
     ]
    },
    {
     "data": {
      "text/html": [
       "<img src=\"https://apod.nasa.gov/apod/image/m83_aat.gif\"/>"
      ],
      "text/plain": [
       "<IPython.core.display.Image object>"
      ]
     },
     "metadata": {},
     "output_type": "display_data"
    }
   ],
   "source": [
    "# NASA Slideshow\n",
    "import requests\n",
    "import random\n",
    "import time\n",
    "from datetime import date\n",
    "from IPython.display import Image\n",
    "from datetime import tzinfo, timedelta, datetime\n",
    "from IPython.display import clear_output\n",
    "\n",
    "\n",
    "api_key = \"oMrH77hL0IcYFpEAYw6HpzxULiro2VX2jGy9CIMV\"\n",
    "\n",
    "start_timeline = date(1995, 6, 16).isoformat()\n",
    "\n",
    "# This is helpful for the slideshow\n",
    "for number in range(10):\n",
    "    print(start_timeline)\n",
    "    r = requests.get(f'https://api.nasa.gov/planetary/apod?date={start_timeline}&api_key={api_key}')\n",
    "    url = r.json()[\"url\"]\n",
    "    display(Image(url = url))\n",
    "    year = random.randint(1995, 2018)\n",
    "    month = random.randint(1, 12)\n",
    "    day = random.randint(1, 28)\n",
    "    start_timeline = date(year, month, day).isoformat()\n",
    "    sleep(2)\n",
    "    clear_output(wait=True)\n"
   ]
  },
  {
   "cell_type": "code",
   "execution_count": null,
   "metadata": {},
   "outputs": [],
   "source": []
  },
  {
   "cell_type": "code",
   "execution_count": null,
   "metadata": {},
   "outputs": [],
   "source": []
  }
 ],
 "metadata": {
  "kernelspec": {
   "display_name": "Python 3",
   "language": "python",
   "name": "python3"
  },
  "language_info": {
   "codemirror_mode": {
    "name": "ipython",
    "version": 3
   },
   "file_extension": ".py",
   "mimetype": "text/x-python",
   "name": "python",
   "nbconvert_exporter": "python",
   "pygments_lexer": "ipython3",
   "version": "3.6.5"
  }
 },
 "nbformat": 4,
 "nbformat_minor": 2
}
